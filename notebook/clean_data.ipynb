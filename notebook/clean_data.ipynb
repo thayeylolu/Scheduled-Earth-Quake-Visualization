{
 "cells": [
  {
   "cell_type": "code",
   "execution_count": 65,
   "metadata": {},
   "outputs": [],
   "source": [
    "import string\n",
    "import pandas as pd\n",
    "import re, os"
   ]
  },
  {
   "cell_type": "code",
   "execution_count": 66,
   "metadata": {},
   "outputs": [
    {
     "data": {
      "text/plain": [
       "'/Users/hasana/Documents/projects/learning stuf/earthquake/notebook'"
      ]
     },
     "execution_count": 66,
     "metadata": {},
     "output_type": "execute_result"
    }
   ],
   "source": [
    "os.getcwd()"
   ]
  },
  {
   "cell_type": "code",
   "execution_count": 67,
   "metadata": {},
   "outputs": [
    {
     "data": {
      "text/plain": [
       "'/Users/hasana/Documents/projects/learning stuf/earthquake/data/raw'"
      ]
     },
     "execution_count": 67,
     "metadata": {},
     "output_type": "execute_result"
    }
   ],
   "source": [
    "CURRENT_DIR = os.getcwd()\n",
    "PARENT_DIR = CURRENT_DIR.replace(\"/notebook\", \"\")\n",
    "RAW_DATA_DIR = PARENT_DIR + \"/data/raw\"\n",
    "RAW_DATA_DIR "
   ]
  },
  {
   "cell_type": "code",
   "execution_count": 68,
   "metadata": {},
   "outputs": [
    {
     "data": {
      "text/html": [
       "<div>\n",
       "<style scoped>\n",
       "    .dataframe tbody tr th:only-of-type {\n",
       "        vertical-align: middle;\n",
       "    }\n",
       "\n",
       "    .dataframe tbody tr th {\n",
       "        vertical-align: top;\n",
       "    }\n",
       "\n",
       "    .dataframe thead th {\n",
       "        text-align: right;\n",
       "    }\n",
       "</style>\n",
       "<table border=\"1\" class=\"dataframe\">\n",
       "  <thead>\n",
       "    <tr style=\"text-align: right;\">\n",
       "      <th></th>\n",
       "      <th>Unnamed: 0</th>\n",
       "      <th>date</th>\n",
       "      <th>user</th>\n",
       "      <th>region</th>\n",
       "      <th>tweet</th>\n",
       "      <th>location</th>\n",
       "      <th>location_2</th>\n",
       "      <th>map_url</th>\n",
       "      <th>lat</th>\n",
       "      <th>long</th>\n",
       "      <th>magnitude</th>\n",
       "    </tr>\n",
       "  </thead>\n",
       "  <tbody>\n",
       "    <tr>\n",
       "      <th>0</th>\n",
       "      <td>2</td>\n",
       "      <td>2022-08-19 18:17:02+00:00</td>\n",
       "      <td>earthquakeBot</td>\n",
       "      <td>occurred in South Sandwich Islands region.</td>\n",
       "      <td>A 5.2 magnitude earthquake occurred in South S...</td>\n",
       "      <td>South Atlantic Ocean</td>\n",
       "      <td>39JP272V+M7</td>\n",
       "      <td>https://www.google.com/maps/place/57%C2%B059'5...</td>\n",
       "      <td>-57.9983</td>\n",
       "      <td>-25.7068</td>\n",
       "      <td>5.2</td>\n",
       "    </tr>\n",
       "    <tr>\n",
       "      <th>1</th>\n",
       "      <td>5</td>\n",
       "      <td>2022-08-19 11:27:01+00:00</td>\n",
       "      <td>earthquakeBot</td>\n",
       "      <td>occurred in southern Mid-Atlantic Ridge.</td>\n",
       "      <td>A 5.2 magnitude earthquake occurred in souther...</td>\n",
       "      <td>South Atlantic Ocean</td>\n",
       "      <td>5CFCF7RJ+69</td>\n",
       "      <td>https://www.google.com/maps/place/20%C2%B030'3...</td>\n",
       "      <td>-20.5094</td>\n",
       "      <td>-11.7191</td>\n",
       "      <td>5.2</td>\n",
       "    </tr>\n",
       "    <tr>\n",
       "      <th>2</th>\n",
       "      <td>6</td>\n",
       "      <td>2022-08-19 05:25:01+00:00</td>\n",
       "      <td>earthquakeBot</td>\n",
       "      <td>occurred in South Sandwich Islands region.</td>\n",
       "      <td>A 5.3 magnitude earthquake occurred in South S...</td>\n",
       "      <td>South Atlantic Ocean</td>\n",
       "      <td>39MJRJHP+FC</td>\n",
       "      <td>https://www.google.com/maps/place/56%C2%B010'1...</td>\n",
       "      <td>-56.1713</td>\n",
       "      <td>-27.3639</td>\n",
       "      <td>5.3</td>\n",
       "    </tr>\n",
       "    <tr>\n",
       "      <th>3</th>\n",
       "      <td>8</td>\n",
       "      <td>2022-08-19 03:02:01+00:00</td>\n",
       "      <td>earthquakeBot</td>\n",
       "      <td>occurred in southern Mid-Atlantic Ridge.</td>\n",
       "      <td>A 5.1 magnitude earthquake occurred in souther...</td>\n",
       "      <td>South Atlantic Ocean</td>\n",
       "      <td>5CFCH625+5X</td>\n",
       "      <td>https://www.google.com/maps/place/20%C2%B026'5...</td>\n",
       "      <td>-20.4496</td>\n",
       "      <td>-11.7901</td>\n",
       "      <td>5.1</td>\n",
       "    </tr>\n",
       "    <tr>\n",
       "      <th>4</th>\n",
       "      <td>10</td>\n",
       "      <td>2022-08-18 21:54:01+00:00</td>\n",
       "      <td>earthquakeBot</td>\n",
       "      <td>occurred in southern Mid-Atlantic Ridge.</td>\n",
       "      <td>A 5.1 magnitude earthquake occurred in souther...</td>\n",
       "      <td>South Atlantic Ocean</td>\n",
       "      <td>5CF9QHGQ+F9</td>\n",
       "      <td>https://www.google.com/maps/place/20%C2%B013'2...</td>\n",
       "      <td>-20.2238</td>\n",
       "      <td>-12.4116</td>\n",
       "      <td>5.1</td>\n",
       "    </tr>\n",
       "  </tbody>\n",
       "</table>\n",
       "</div>"
      ],
      "text/plain": [
       "   Unnamed: 0                       date           user  \\\n",
       "0           2  2022-08-19 18:17:02+00:00  earthquakeBot   \n",
       "1           5  2022-08-19 11:27:01+00:00  earthquakeBot   \n",
       "2           6  2022-08-19 05:25:01+00:00  earthquakeBot   \n",
       "3           8  2022-08-19 03:02:01+00:00  earthquakeBot   \n",
       "4          10  2022-08-18 21:54:01+00:00  earthquakeBot   \n",
       "\n",
       "                                         region  \\\n",
       "0   occurred in South Sandwich Islands region.    \n",
       "1     occurred in southern Mid-Atlantic Ridge.    \n",
       "2   occurred in South Sandwich Islands region.    \n",
       "3     occurred in southern Mid-Atlantic Ridge.    \n",
       "4     occurred in southern Mid-Atlantic Ridge.    \n",
       "\n",
       "                                               tweet              location  \\\n",
       "0  A 5.2 magnitude earthquake occurred in South S...  South Atlantic Ocean   \n",
       "1  A 5.2 magnitude earthquake occurred in souther...  South Atlantic Ocean   \n",
       "2  A 5.3 magnitude earthquake occurred in South S...  South Atlantic Ocean   \n",
       "3  A 5.1 magnitude earthquake occurred in souther...  South Atlantic Ocean   \n",
       "4  A 5.1 magnitude earthquake occurred in souther...  South Atlantic Ocean   \n",
       "\n",
       "    location_2                                            map_url      lat  \\\n",
       "0  39JP272V+M7  https://www.google.com/maps/place/57%C2%B059'5... -57.9983   \n",
       "1  5CFCF7RJ+69  https://www.google.com/maps/place/20%C2%B030'3... -20.5094   \n",
       "2  39MJRJHP+FC  https://www.google.com/maps/place/56%C2%B010'1... -56.1713   \n",
       "3  5CFCH625+5X  https://www.google.com/maps/place/20%C2%B026'5... -20.4496   \n",
       "4  5CF9QHGQ+F9  https://www.google.com/maps/place/20%C2%B013'2... -20.2238   \n",
       "\n",
       "      long  magnitude  \n",
       "0 -25.7068        5.2  \n",
       "1 -11.7191        5.2  \n",
       "2 -27.3639        5.3  \n",
       "3 -11.7901        5.1  \n",
       "4 -12.4116        5.1  "
      ]
     },
     "execution_count": 68,
     "metadata": {},
     "output_type": "execute_result"
    }
   ],
   "source": [
    "df = pd.read_csv(f'{RAW_DATA_DIR}/earthquake_bot_2022-08-20.csv')\n",
    "df.head()"
   ]
  },
  {
   "cell_type": "code",
   "execution_count": 69,
   "metadata": {},
   "outputs": [],
   "source": [
    "if df.user.unique()[0] != 'earthquakeBot':\n",
    "    # filter the dataset to have only data from 'earthquakebot'\n",
    "    df = df.query('User == \"earthquakeBot\"')\n",
    "else:\n",
    "    pass"
   ]
  },
  {
   "cell_type": "code",
   "execution_count": 70,
   "metadata": {},
   "outputs": [
    {
     "name": "stdout",
     "output_type": "stream",
     "text": [
      "<class 'pandas.core.frame.DataFrame'>\n",
      "RangeIndex: 9 entries, 0 to 8\n",
      "Data columns (total 11 columns):\n",
      " #   Column      Non-Null Count  Dtype  \n",
      "---  ------      --------------  -----  \n",
      " 0   Unnamed: 0  9 non-null      int64  \n",
      " 1   date        9 non-null      object \n",
      " 2   user        9 non-null      object \n",
      " 3   region      9 non-null      object \n",
      " 4   tweet       9 non-null      object \n",
      " 5   location    9 non-null      object \n",
      " 6   location_2  9 non-null      object \n",
      " 7   map_url     9 non-null      object \n",
      " 8   lat         9 non-null      float64\n",
      " 9   long        9 non-null      float64\n",
      " 10  magnitude   9 non-null      float64\n",
      "dtypes: float64(3), int64(1), object(7)\n",
      "memory usage: 920.0+ bytes\n"
     ]
    }
   ],
   "source": [
    "df.info()"
   ]
  },
  {
   "cell_type": "markdown",
   "metadata": {},
   "source": [
    "### clean data\n",
    "- region\n",
    "- Date\n",
    "- validate we only have data from `earthquakeBot`\n",
    "- "
   ]
  },
  {
   "cell_type": "code",
   "execution_count": 71,
   "metadata": {},
   "outputs": [],
   "source": [
    "df['date_'] = pd.to_datetime(df['date'])\n",
    "df['date'] = df.date_.apply(lambda x: x.date())\n",
    "df['time'] = df.date_.apply(lambda x: x.time())"
   ]
  },
  {
   "cell_type": "code",
   "execution_count": 73,
   "metadata": {},
   "outputs": [
    {
     "name": "stderr",
     "output_type": "stream",
     "text": [
      "/var/folders/9k/93y5mwqx7vv2w2hhhthftg980000gn/T/ipykernel_60734/3807264903.py:1: FutureWarning: The default value of regex will change from True to False in a future version. In addition, single character regular expressions will *not* be treated as literal strings when regex=True.\n",
      "  df['region']= df.region.str.replace('occurred ', '').str.replace('in ', '').str.replace('.', '')\n"
     ]
    }
   ],
   "source": [
    "df['region']= df.region.str.replace('occurred ', '').str.replace('in ', '').str.replace('.', '')"
   ]
  },
  {
   "cell_type": "code",
   "execution_count": 74,
   "metadata": {},
   "outputs": [
    {
     "data": {
      "text/plain": [
       "array(['South Atlantic Ocean', 'South Pacific Ocean', 'Molucca Sea',\n",
       "       'North Pacific Ocean', \"Requinoa, O'Higgins, Chile\"], dtype=object)"
      ]
     },
     "execution_count": 74,
     "metadata": {},
     "output_type": "execute_result"
    }
   ],
   "source": [
    "df.location.unique()"
   ]
  },
  {
   "cell_type": "code",
   "execution_count": 75,
   "metadata": {},
   "outputs": [
    {
     "data": {
      "text/html": [
       "<div>\n",
       "<style scoped>\n",
       "    .dataframe tbody tr th:only-of-type {\n",
       "        vertical-align: middle;\n",
       "    }\n",
       "\n",
       "    .dataframe tbody tr th {\n",
       "        vertical-align: top;\n",
       "    }\n",
       "\n",
       "    .dataframe thead th {\n",
       "        text-align: right;\n",
       "    }\n",
       "</style>\n",
       "<table border=\"1\" class=\"dataframe\">\n",
       "  <thead>\n",
       "    <tr style=\"text-align: right;\">\n",
       "      <th></th>\n",
       "      <th>Unnamed: 0</th>\n",
       "      <th>date</th>\n",
       "      <th>user</th>\n",
       "      <th>region</th>\n",
       "      <th>tweet</th>\n",
       "      <th>location</th>\n",
       "      <th>location_2</th>\n",
       "      <th>map_url</th>\n",
       "      <th>lat</th>\n",
       "      <th>long</th>\n",
       "      <th>magnitude</th>\n",
       "      <th>date_</th>\n",
       "      <th>time</th>\n",
       "      <th>filtered_location</th>\n",
       "    </tr>\n",
       "  </thead>\n",
       "  <tbody>\n",
       "    <tr>\n",
       "      <th>0</th>\n",
       "      <td>2</td>\n",
       "      <td>2022-08-19</td>\n",
       "      <td>earthquakeBot</td>\n",
       "      <td>South Sandwich Islands region</td>\n",
       "      <td>A 5.2 magnitude earthquake occurred in South S...</td>\n",
       "      <td>South Atlantic Ocean</td>\n",
       "      <td>39JP272V+M7</td>\n",
       "      <td>https://www.google.com/maps/place/57%C2%B059'5...</td>\n",
       "      <td>-57.9983</td>\n",
       "      <td>-25.7068</td>\n",
       "      <td>5.2</td>\n",
       "      <td>2022-08-19 18:17:02+00:00</td>\n",
       "      <td>18:17:02</td>\n",
       "      <td>South Atlantic Ocean</td>\n",
       "    </tr>\n",
       "    <tr>\n",
       "      <th>1</th>\n",
       "      <td>5</td>\n",
       "      <td>2022-08-19</td>\n",
       "      <td>earthquakeBot</td>\n",
       "      <td>southern Mid-Atlantic Ridge</td>\n",
       "      <td>A 5.2 magnitude earthquake occurred in souther...</td>\n",
       "      <td>South Atlantic Ocean</td>\n",
       "      <td>5CFCF7RJ+69</td>\n",
       "      <td>https://www.google.com/maps/place/20%C2%B030'3...</td>\n",
       "      <td>-20.5094</td>\n",
       "      <td>-11.7191</td>\n",
       "      <td>5.2</td>\n",
       "      <td>2022-08-19 11:27:01+00:00</td>\n",
       "      <td>11:27:01</td>\n",
       "      <td>South Atlantic Ocean</td>\n",
       "    </tr>\n",
       "    <tr>\n",
       "      <th>2</th>\n",
       "      <td>6</td>\n",
       "      <td>2022-08-19</td>\n",
       "      <td>earthquakeBot</td>\n",
       "      <td>South Sandwich Islands region</td>\n",
       "      <td>A 5.3 magnitude earthquake occurred in South S...</td>\n",
       "      <td>South Atlantic Ocean</td>\n",
       "      <td>39MJRJHP+FC</td>\n",
       "      <td>https://www.google.com/maps/place/56%C2%B010'1...</td>\n",
       "      <td>-56.1713</td>\n",
       "      <td>-27.3639</td>\n",
       "      <td>5.3</td>\n",
       "      <td>2022-08-19 05:25:01+00:00</td>\n",
       "      <td>05:25:01</td>\n",
       "      <td>South Atlantic Ocean</td>\n",
       "    </tr>\n",
       "    <tr>\n",
       "      <th>3</th>\n",
       "      <td>8</td>\n",
       "      <td>2022-08-19</td>\n",
       "      <td>earthquakeBot</td>\n",
       "      <td>southern Mid-Atlantic Ridge</td>\n",
       "      <td>A 5.1 magnitude earthquake occurred in souther...</td>\n",
       "      <td>South Atlantic Ocean</td>\n",
       "      <td>5CFCH625+5X</td>\n",
       "      <td>https://www.google.com/maps/place/20%C2%B026'5...</td>\n",
       "      <td>-20.4496</td>\n",
       "      <td>-11.7901</td>\n",
       "      <td>5.1</td>\n",
       "      <td>2022-08-19 03:02:01+00:00</td>\n",
       "      <td>03:02:01</td>\n",
       "      <td>South Atlantic Ocean</td>\n",
       "    </tr>\n",
       "    <tr>\n",
       "      <th>4</th>\n",
       "      <td>10</td>\n",
       "      <td>2022-08-18</td>\n",
       "      <td>earthquakeBot</td>\n",
       "      <td>southern Mid-Atlantic Ridge</td>\n",
       "      <td>A 5.1 magnitude earthquake occurred in souther...</td>\n",
       "      <td>South Atlantic Ocean</td>\n",
       "      <td>5CF9QHGQ+F9</td>\n",
       "      <td>https://www.google.com/maps/place/20%C2%B013'2...</td>\n",
       "      <td>-20.2238</td>\n",
       "      <td>-12.4116</td>\n",
       "      <td>5.1</td>\n",
       "      <td>2022-08-18 21:54:01+00:00</td>\n",
       "      <td>21:54:01</td>\n",
       "      <td>South Atlantic Ocean</td>\n",
       "    </tr>\n",
       "  </tbody>\n",
       "</table>\n",
       "</div>"
      ],
      "text/plain": [
       "   Unnamed: 0        date           user                           region  \\\n",
       "0           2  2022-08-19  earthquakeBot   South Sandwich Islands region    \n",
       "1           5  2022-08-19  earthquakeBot     southern Mid-Atlantic Ridge    \n",
       "2           6  2022-08-19  earthquakeBot   South Sandwich Islands region    \n",
       "3           8  2022-08-19  earthquakeBot     southern Mid-Atlantic Ridge    \n",
       "4          10  2022-08-18  earthquakeBot     southern Mid-Atlantic Ridge    \n",
       "\n",
       "                                               tweet              location  \\\n",
       "0  A 5.2 magnitude earthquake occurred in South S...  South Atlantic Ocean   \n",
       "1  A 5.2 magnitude earthquake occurred in souther...  South Atlantic Ocean   \n",
       "2  A 5.3 magnitude earthquake occurred in South S...  South Atlantic Ocean   \n",
       "3  A 5.1 magnitude earthquake occurred in souther...  South Atlantic Ocean   \n",
       "4  A 5.1 magnitude earthquake occurred in souther...  South Atlantic Ocean   \n",
       "\n",
       "    location_2                                            map_url      lat  \\\n",
       "0  39JP272V+M7  https://www.google.com/maps/place/57%C2%B059'5... -57.9983   \n",
       "1  5CFCF7RJ+69  https://www.google.com/maps/place/20%C2%B030'3... -20.5094   \n",
       "2  39MJRJHP+FC  https://www.google.com/maps/place/56%C2%B010'1... -56.1713   \n",
       "3  5CFCH625+5X  https://www.google.com/maps/place/20%C2%B026'5... -20.4496   \n",
       "4  5CF9QHGQ+F9  https://www.google.com/maps/place/20%C2%B013'2... -20.2238   \n",
       "\n",
       "      long  magnitude                     date_      time  \\\n",
       "0 -25.7068        5.2 2022-08-19 18:17:02+00:00  18:17:02   \n",
       "1 -11.7191        5.2 2022-08-19 11:27:01+00:00  11:27:01   \n",
       "2 -27.3639        5.3 2022-08-19 05:25:01+00:00  05:25:01   \n",
       "3 -11.7901        5.1 2022-08-19 03:02:01+00:00  03:02:01   \n",
       "4 -12.4116        5.1 2022-08-18 21:54:01+00:00  21:54:01   \n",
       "\n",
       "      filtered_location  \n",
       "0  South Atlantic Ocean  \n",
       "1  South Atlantic Ocean  \n",
       "2  South Atlantic Ocean  \n",
       "3  South Atlantic Ocean  \n",
       "4  South Atlantic Ocean  "
      ]
     },
     "execution_count": 75,
     "metadata": {},
     "output_type": "execute_result"
    }
   ],
   "source": [
    "def find_last_word(x):\n",
    "    last_word = re.search(\"(\\w+)$\", x).group()\n",
    "    if last_word in [\"Sea\", \"Ocean\", \"River\", \"Volcano\"]:\n",
    "        return x\n",
    "    else:\n",
    "        return last_word\n",
    "\n",
    "df['filtered_location'] = df.location.apply(lambda x : find_last_word(x))\n",
    "df.head(5)"
   ]
  },
  {
   "cell_type": "code",
   "execution_count": 76,
   "metadata": {},
   "outputs": [
    {
     "data": {
      "text/html": [
       "<div>\n",
       "<style scoped>\n",
       "    .dataframe tbody tr th:only-of-type {\n",
       "        vertical-align: middle;\n",
       "    }\n",
       "\n",
       "    .dataframe tbody tr th {\n",
       "        vertical-align: top;\n",
       "    }\n",
       "\n",
       "    .dataframe thead th {\n",
       "        text-align: right;\n",
       "    }\n",
       "</style>\n",
       "<table border=\"1\" class=\"dataframe\">\n",
       "  <thead>\n",
       "    <tr style=\"text-align: right;\">\n",
       "      <th></th>\n",
       "      <th>date</th>\n",
       "      <th>time</th>\n",
       "      <th>location</th>\n",
       "      <th>filtered_location</th>\n",
       "      <th>lat</th>\n",
       "      <th>long</th>\n",
       "      <th>magnitude</th>\n",
       "    </tr>\n",
       "  </thead>\n",
       "  <tbody>\n",
       "    <tr>\n",
       "      <th>0</th>\n",
       "      <td>2022-08-19</td>\n",
       "      <td>18:17:02</td>\n",
       "      <td>South Atlantic Ocean</td>\n",
       "      <td>South Atlantic Ocean</td>\n",
       "      <td>-57.9983</td>\n",
       "      <td>-25.7068</td>\n",
       "      <td>5.2</td>\n",
       "    </tr>\n",
       "    <tr>\n",
       "      <th>1</th>\n",
       "      <td>2022-08-19</td>\n",
       "      <td>11:27:01</td>\n",
       "      <td>South Atlantic Ocean</td>\n",
       "      <td>South Atlantic Ocean</td>\n",
       "      <td>-20.5094</td>\n",
       "      <td>-11.7191</td>\n",
       "      <td>5.2</td>\n",
       "    </tr>\n",
       "    <tr>\n",
       "      <th>2</th>\n",
       "      <td>2022-08-19</td>\n",
       "      <td>05:25:01</td>\n",
       "      <td>South Atlantic Ocean</td>\n",
       "      <td>South Atlantic Ocean</td>\n",
       "      <td>-56.1713</td>\n",
       "      <td>-27.3639</td>\n",
       "      <td>5.3</td>\n",
       "    </tr>\n",
       "    <tr>\n",
       "      <th>3</th>\n",
       "      <td>2022-08-19</td>\n",
       "      <td>03:02:01</td>\n",
       "      <td>South Atlantic Ocean</td>\n",
       "      <td>South Atlantic Ocean</td>\n",
       "      <td>-20.4496</td>\n",
       "      <td>-11.7901</td>\n",
       "      <td>5.1</td>\n",
       "    </tr>\n",
       "    <tr>\n",
       "      <th>4</th>\n",
       "      <td>2022-08-18</td>\n",
       "      <td>21:54:01</td>\n",
       "      <td>South Atlantic Ocean</td>\n",
       "      <td>South Atlantic Ocean</td>\n",
       "      <td>-20.2238</td>\n",
       "      <td>-12.4116</td>\n",
       "      <td>5.1</td>\n",
       "    </tr>\n",
       "  </tbody>\n",
       "</table>\n",
       "</div>"
      ],
      "text/plain": [
       "         date      time              location     filtered_location      lat  \\\n",
       "0  2022-08-19  18:17:02  South Atlantic Ocean  South Atlantic Ocean -57.9983   \n",
       "1  2022-08-19  11:27:01  South Atlantic Ocean  South Atlantic Ocean -20.5094   \n",
       "2  2022-08-19  05:25:01  South Atlantic Ocean  South Atlantic Ocean -56.1713   \n",
       "3  2022-08-19  03:02:01  South Atlantic Ocean  South Atlantic Ocean -20.4496   \n",
       "4  2022-08-18  21:54:01  South Atlantic Ocean  South Atlantic Ocean -20.2238   \n",
       "\n",
       "      long  magnitude  \n",
       "0 -25.7068        5.2  \n",
       "1 -11.7191        5.2  \n",
       "2 -27.3639        5.3  \n",
       "3 -11.7901        5.1  \n",
       "4 -12.4116        5.1  "
      ]
     },
     "execution_count": 76,
     "metadata": {},
     "output_type": "execute_result"
    }
   ],
   "source": [
    "clean_df = df[['date', 'time', 'location','filtered_location', 'lat', 'long', 'magnitude', ]]\n",
    "clean_df.head()"
   ]
  },
  {
   "cell_type": "code",
   "execution_count": 77,
   "metadata": {},
   "outputs": [
    {
     "data": {
      "text/plain": [
       "array([datetime.time(18, 17, 2), datetime.time(11, 27, 1),\n",
       "       datetime.time(5, 25, 1), datetime.time(3, 2, 1),\n",
       "       datetime.time(21, 54, 1), datetime.time(18, 3, 1),\n",
       "       datetime.time(8, 2, 2), datetime.time(6, 9, 1),\n",
       "       datetime.time(2, 28, 1)], dtype=object)"
      ]
     },
     "execution_count": 77,
     "metadata": {},
     "output_type": "execute_result"
    }
   ],
   "source": [
    "clean_df.time.unique()"
   ]
  },
  {
   "cell_type": "code",
   "execution_count": null,
   "metadata": {},
   "outputs": [],
   "source": []
  }
 ],
 "metadata": {
  "kernelspec": {
   "display_name": "Python 3.9.12 ('dsci572env')",
   "language": "python",
   "name": "python3"
  },
  "language_info": {
   "codemirror_mode": {
    "name": "ipython",
    "version": 3
   },
   "file_extension": ".py",
   "mimetype": "text/x-python",
   "name": "python",
   "nbconvert_exporter": "python",
   "pygments_lexer": "ipython3",
   "version": "3.9.12"
  },
  "orig_nbformat": 4,
  "vscode": {
   "interpreter": {
    "hash": "49c76ddf62ca98de74eedc2bb55b33e27315dcb91d5e2af2ea84b0e3308bb054"
   }
  }
 },
 "nbformat": 4,
 "nbformat_minor": 2
}
