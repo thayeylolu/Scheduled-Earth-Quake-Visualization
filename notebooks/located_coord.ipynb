{
 "cells": [
  {
   "cell_type": "code",
   "execution_count": 6,
   "metadata": {},
   "outputs": [],
   "source": [
    "# import module\n",
    "from geopy.geocoders import Nominatim\n",
    "import string\n",
    "import pandas as pd\n",
    "import re, os\n",
    "from geopy.point import Point\n"
   ]
  },
  {
   "cell_type": "code",
   "execution_count": 7,
   "metadata": {},
   "outputs": [],
   "source": [
    "CURRENT_DIR = os.getcwd()\n",
    "PARENT_DIR = CURRENT_DIR.replace(\"/notebooks\", \"\")\n",
    "\n",
    "RAW_DATA_DIR = os.path.join(PARENT_DIR ,\"data/raw\")\n",
    "CLEAN_DATA_DIR = os.path.join(PARENT_DIR, \"data/preprocessed/clean\")\n"
   ]
  },
  {
   "cell_type": "code",
   "execution_count": 8,
   "metadata": {},
   "outputs": [],
   "source": [
    "# pick the most recent file\n",
    "df = pd.read_csv(f'{CLEAN_DATA_DIR}/clean_eq_2022_08_20.csv')\n",
    "df = df.drop(\"Unnamed: 0\",axis=1)"
   ]
  },
  {
   "cell_type": "code",
   "execution_count": 9,
   "metadata": {},
   "outputs": [
    {
     "name": "stdout",
     "output_type": "stream",
     "text": [
      "<class 'pandas.core.frame.DataFrame'>\n",
      "RangeIndex: 9 entries, 0 to 8\n",
      "Data columns (total 8 columns):\n",
      " #   Column             Non-Null Count  Dtype  \n",
      "---  ------             --------------  -----  \n",
      " 0   p_id               9 non-null      int64  \n",
      " 1   date               9 non-null      object \n",
      " 2   time               9 non-null      object \n",
      " 3   location           9 non-null      object \n",
      " 4   filtered_location  9 non-null      object \n",
      " 5   lat                9 non-null      float64\n",
      " 6   long               9 non-null      float64\n",
      " 7   magnitude          9 non-null      float64\n",
      "dtypes: float64(3), int64(1), object(4)\n",
      "memory usage: 704.0+ bytes\n"
     ]
    }
   ],
   "source": [
    "df.info()"
   ]
  },
  {
   "cell_type": "code",
   "execution_count": 10,
   "metadata": {},
   "outputs": [],
   "source": [
    "geolocator = Nominatim(user_agent=\"located_coord\")"
   ]
  },
  {
   "cell_type": "code",
   "execution_count": 11,
   "metadata": {},
   "outputs": [
    {
     "name": "stdout",
     "output_type": "stream",
     "text": [
      "Requínoa, Provincia de Cachapoal, Región del Libertador General Bernardo O'Higgins, Chile\n"
     ]
    }
   ],
   "source": [
    "lat = \"-34.34751\"\n",
    "long = \"-70.5792\"\n",
    "location = geolocator.reverse(Point(lat, long))\n",
    "print(location)"
   ]
  },
  {
   "cell_type": "code",
   "execution_count": 12,
   "metadata": {},
   "outputs": [
    {
     "data": {
      "text/plain": [
       "{'town': 'Requínoa',\n",
       " 'county': 'Provincia de Cachapoal',\n",
       " 'state': \"Región del Libertador General Bernardo O'Higgins\",\n",
       " 'ISO3166-2-lvl4': 'CL-LI',\n",
       " 'country': 'Chile',\n",
       " 'country_code': 'cl'}"
      ]
     },
     "execution_count": 12,
     "metadata": {},
     "output_type": "execute_result"
    }
   ],
   "source": [
    "location.raw['address']"
   ]
  },
  {
   "cell_type": "code",
   "execution_count": 13,
   "metadata": {},
   "outputs": [],
   "source": [
    "df['lat'] = df['lat'].astype(str)\n",
    "df['long'] = df['long'].astype(str)"
   ]
  },
  {
   "cell_type": "code",
   "execution_count": 14,
   "metadata": {},
   "outputs": [
    {
     "ename": "KeyError",
     "evalue": "\"['id'] not in index\"",
     "output_type": "error",
     "traceback": [
      "\u001b[0;31m---------------------------------------------------------------------------\u001b[0m",
      "\u001b[0;31mKeyError\u001b[0m                                  Traceback (most recent call last)",
      "\u001b[1;32m/Users/hasana/Documents/projects/learning stuf/earthquake/notebooks/located_coord.ipynb Cell 9\u001b[0m in \u001b[0;36m<cell line: 6>\u001b[0;34m()\u001b[0m\n\u001b[1;32m      <a href='vscode-notebook-cell:/Users/hasana/Documents/projects/learning%20stuf/earthquake/notebooks/located_coord.ipynb#X11sZmlsZQ%3D%3D?line=3'>4</a>\u001b[0m         \u001b[39mreturn\u001b[39;00m \u001b[39mNone\u001b[39;00m\n\u001b[1;32m      <a href='vscode-notebook-cell:/Users/hasana/Documents/projects/learning%20stuf/earthquake/notebooks/located_coord.ipynb#X11sZmlsZQ%3D%3D?line=4'>5</a>\u001b[0m     \u001b[39mreturn\u001b[39;00m location\u001b[39m.\u001b[39mraw[\u001b[39m'\u001b[39m\u001b[39maddress\u001b[39m\u001b[39m'\u001b[39m]\n\u001b[0;32m----> <a href='vscode-notebook-cell:/Users/hasana/Documents/projects/learning%20stuf/earthquake/notebooks/located_coord.ipynb#X11sZmlsZQ%3D%3D?line=5'>6</a>\u001b[0m location_df \u001b[39m=\u001b[39m df[[\u001b[39m'\u001b[39;49m\u001b[39mid\u001b[39;49m\u001b[39m'\u001b[39;49m, \u001b[39m'\u001b[39;49m\u001b[39mlat\u001b[39;49m\u001b[39m'\u001b[39;49m,\u001b[39m'\u001b[39;49m\u001b[39mlong\u001b[39;49m\u001b[39m'\u001b[39;49m, \u001b[39m'\u001b[39;49m\u001b[39mfiltered_location\u001b[39;49m\u001b[39m'\u001b[39;49m]]\n",
      "File \u001b[0;32m~/opt/miniconda3/envs/dsci572env/lib/python3.9/site-packages/pandas/core/frame.py:3511\u001b[0m, in \u001b[0;36mDataFrame.__getitem__\u001b[0;34m(self, key)\u001b[0m\n\u001b[1;32m   3509\u001b[0m     \u001b[39mif\u001b[39;00m is_iterator(key):\n\u001b[1;32m   3510\u001b[0m         key \u001b[39m=\u001b[39m \u001b[39mlist\u001b[39m(key)\n\u001b[0;32m-> 3511\u001b[0m     indexer \u001b[39m=\u001b[39m \u001b[39mself\u001b[39;49m\u001b[39m.\u001b[39;49mcolumns\u001b[39m.\u001b[39;49m_get_indexer_strict(key, \u001b[39m\"\u001b[39;49m\u001b[39mcolumns\u001b[39;49m\u001b[39m\"\u001b[39;49m)[\u001b[39m1\u001b[39m]\n\u001b[1;32m   3513\u001b[0m \u001b[39m# take() does not accept boolean indexers\u001b[39;00m\n\u001b[1;32m   3514\u001b[0m \u001b[39mif\u001b[39;00m \u001b[39mgetattr\u001b[39m(indexer, \u001b[39m\"\u001b[39m\u001b[39mdtype\u001b[39m\u001b[39m\"\u001b[39m, \u001b[39mNone\u001b[39;00m) \u001b[39m==\u001b[39m \u001b[39mbool\u001b[39m:\n",
      "File \u001b[0;32m~/opt/miniconda3/envs/dsci572env/lib/python3.9/site-packages/pandas/core/indexes/base.py:5782\u001b[0m, in \u001b[0;36mIndex._get_indexer_strict\u001b[0;34m(self, key, axis_name)\u001b[0m\n\u001b[1;32m   5779\u001b[0m \u001b[39melse\u001b[39;00m:\n\u001b[1;32m   5780\u001b[0m     keyarr, indexer, new_indexer \u001b[39m=\u001b[39m \u001b[39mself\u001b[39m\u001b[39m.\u001b[39m_reindex_non_unique(keyarr)\n\u001b[0;32m-> 5782\u001b[0m \u001b[39mself\u001b[39;49m\u001b[39m.\u001b[39;49m_raise_if_missing(keyarr, indexer, axis_name)\n\u001b[1;32m   5784\u001b[0m keyarr \u001b[39m=\u001b[39m \u001b[39mself\u001b[39m\u001b[39m.\u001b[39mtake(indexer)\n\u001b[1;32m   5785\u001b[0m \u001b[39mif\u001b[39;00m \u001b[39misinstance\u001b[39m(key, Index):\n\u001b[1;32m   5786\u001b[0m     \u001b[39m# GH 42790 - Preserve name from an Index\u001b[39;00m\n",
      "File \u001b[0;32m~/opt/miniconda3/envs/dsci572env/lib/python3.9/site-packages/pandas/core/indexes/base.py:5845\u001b[0m, in \u001b[0;36mIndex._raise_if_missing\u001b[0;34m(self, key, indexer, axis_name)\u001b[0m\n\u001b[1;32m   5842\u001b[0m     \u001b[39mraise\u001b[39;00m \u001b[39mKeyError\u001b[39;00m(\u001b[39mf\u001b[39m\u001b[39m\"\u001b[39m\u001b[39mNone of [\u001b[39m\u001b[39m{\u001b[39;00mkey\u001b[39m}\u001b[39;00m\u001b[39m] are in the [\u001b[39m\u001b[39m{\u001b[39;00maxis_name\u001b[39m}\u001b[39;00m\u001b[39m]\u001b[39m\u001b[39m\"\u001b[39m)\n\u001b[1;32m   5844\u001b[0m not_found \u001b[39m=\u001b[39m \u001b[39mlist\u001b[39m(ensure_index(key)[missing_mask\u001b[39m.\u001b[39mnonzero()[\u001b[39m0\u001b[39m]]\u001b[39m.\u001b[39munique())\n\u001b[0;32m-> 5845\u001b[0m \u001b[39mraise\u001b[39;00m \u001b[39mKeyError\u001b[39;00m(\u001b[39mf\u001b[39m\u001b[39m\"\u001b[39m\u001b[39m{\u001b[39;00mnot_found\u001b[39m}\u001b[39;00m\u001b[39m not in index\u001b[39m\u001b[39m\"\u001b[39m)\n",
      "\u001b[0;31mKeyError\u001b[0m: \"['id'] not in index\""
     ]
    }
   ],
   "source": [
    "def _get_location_info(point):\n",
    "    location = geolocator.reverse(point)\n",
    "    if location is None:\n",
    "        return None\n",
    "    return location.raw['address']\n",
    "location_df = df[['id', 'lat','long', 'filtered_location']]"
   ]
  },
  {
   "cell_type": "code",
   "execution_count": null,
   "metadata": {},
   "outputs": [
    {
     "name": "stderr",
     "output_type": "stream",
     "text": [
      "/var/folders/9k/93y5mwqx7vv2w2hhhthftg980000gn/T/ipykernel_74483/1144252590.py:1: SettingWithCopyWarning: \n",
      "A value is trying to be set on a copy of a slice from a DataFrame.\n",
      "Try using .loc[row_indexer,col_indexer] = value instead\n",
      "\n",
      "See the caveats in the documentation: https://pandas.pydata.org/pandas-docs/stable/user_guide/indexing.html#returning-a-view-versus-a-copy\n",
      "  location_df['geom_data'] = location_df[\"lat\"].map(str)  + ',' + location_df['long'].map(str)\n",
      "/var/folders/9k/93y5mwqx7vv2w2hhhthftg980000gn/T/ipykernel_74483/1144252590.py:2: SettingWithCopyWarning: \n",
      "A value is trying to be set on a copy of a slice from a DataFrame.\n",
      "Try using .loc[row_indexer,col_indexer] = value instead\n",
      "\n",
      "See the caveats in the documentation: https://pandas.pydata.org/pandas-docs/stable/user_guide/indexing.html#returning-a-view-versus-a-copy\n",
      "  location_df['loc_info'] = location_df['geom_data'].apply(lambda x : _get_location_info(x))\n"
     ]
    }
   ],
   "source": [
    "location_df['geom_data'] = location_df[\"lat\"].map(str)  + ',' + location_df['long'].map(str)\n",
    "location_df['loc_info'] = location_df['geom_data'].apply(lambda x : _get_location_info(x))"
   ]
  },
  {
   "cell_type": "code",
   "execution_count": null,
   "metadata": {},
   "outputs": [],
   "source": [
    "def _extract_loc_info(address):\n",
    "    if address is not None:\n",
    "        country = address.get('country', '')\n",
    "    else:\n",
    "        country = None\n",
    "    return country\n"
   ]
  },
  {
   "cell_type": "code",
   "execution_count": null,
   "metadata": {},
   "outputs": [
    {
     "name": "stderr",
     "output_type": "stream",
     "text": [
      "/var/folders/9k/93y5mwqx7vv2w2hhhthftg980000gn/T/ipykernel_74483/1984943729.py:1: SettingWithCopyWarning: \n",
      "A value is trying to be set on a copy of a slice from a DataFrame.\n",
      "Try using .loc[row_indexer,col_indexer] = value instead\n",
      "\n",
      "See the caveats in the documentation: https://pandas.pydata.org/pandas-docs/stable/user_guide/indexing.html#returning-a-view-versus-a-copy\n",
      "  location_df['country'] = location_df['loc_info'].apply(lambda x : _extract_loc_info(x))\n"
     ]
    }
   ],
   "source": [
    "location_df['country'] = location_df['loc_info'].apply(lambda x : _extract_loc_info(x))"
   ]
  },
  {
   "cell_type": "code",
   "execution_count": null,
   "metadata": {},
   "outputs": [
    {
     "data": {
      "text/html": [
       "<div>\n",
       "<style scoped>\n",
       "    .dataframe tbody tr th:only-of-type {\n",
       "        vertical-align: middle;\n",
       "    }\n",
       "\n",
       "    .dataframe tbody tr th {\n",
       "        vertical-align: top;\n",
       "    }\n",
       "\n",
       "    .dataframe thead th {\n",
       "        text-align: right;\n",
       "    }\n",
       "</style>\n",
       "<table border=\"1\" class=\"dataframe\">\n",
       "  <thead>\n",
       "    <tr style=\"text-align: right;\">\n",
       "      <th></th>\n",
       "      <th>lat</th>\n",
       "      <th>long</th>\n",
       "      <th>filtered_location</th>\n",
       "      <th>geom_data</th>\n",
       "      <th>loc_info</th>\n",
       "      <th>country</th>\n",
       "    </tr>\n",
       "  </thead>\n",
       "  <tbody>\n",
       "    <tr>\n",
       "      <th>0</th>\n",
       "      <td>-57.9983</td>\n",
       "      <td>-25.7068</td>\n",
       "      <td>South Atlantic Ocean</td>\n",
       "      <td>-57.9983,-25.7068</td>\n",
       "      <td>None</td>\n",
       "      <td>None</td>\n",
       "    </tr>\n",
       "    <tr>\n",
       "      <th>1</th>\n",
       "      <td>-20.5094</td>\n",
       "      <td>-11.7191</td>\n",
       "      <td>South Atlantic Ocean</td>\n",
       "      <td>-20.5094,-11.7191</td>\n",
       "      <td>None</td>\n",
       "      <td>None</td>\n",
       "    </tr>\n",
       "    <tr>\n",
       "      <th>2</th>\n",
       "      <td>-56.1713</td>\n",
       "      <td>-27.3639</td>\n",
       "      <td>South Atlantic Ocean</td>\n",
       "      <td>-56.1713,-27.3639</td>\n",
       "      <td>{'state': 'South Sandwich Islands', 'country':...</td>\n",
       "      <td>South Georgia and the South Sandwich Islands</td>\n",
       "    </tr>\n",
       "    <tr>\n",
       "      <th>3</th>\n",
       "      <td>-20.4496</td>\n",
       "      <td>-11.7901</td>\n",
       "      <td>South Atlantic Ocean</td>\n",
       "      <td>-20.4496,-11.7901</td>\n",
       "      <td>None</td>\n",
       "      <td>None</td>\n",
       "    </tr>\n",
       "    <tr>\n",
       "      <th>4</th>\n",
       "      <td>-20.2238</td>\n",
       "      <td>-12.4116</td>\n",
       "      <td>South Atlantic Ocean</td>\n",
       "      <td>-20.2238,-12.4116</td>\n",
       "      <td>None</td>\n",
       "      <td>None</td>\n",
       "    </tr>\n",
       "    <tr>\n",
       "      <th>5</th>\n",
       "      <td>-22.2898</td>\n",
       "      <td>171.6659</td>\n",
       "      <td>South Pacific Ocean</td>\n",
       "      <td>-22.2898,171.6659</td>\n",
       "      <td>None</td>\n",
       "      <td>None</td>\n",
       "    </tr>\n",
       "    <tr>\n",
       "      <th>6</th>\n",
       "      <td>0.3403</td>\n",
       "      <td>124.3752</td>\n",
       "      <td>Molucca Sea</td>\n",
       "      <td>0.3403,124.3752</td>\n",
       "      <td>{'state': 'Sulawesi Utara', 'ISO3166-2-lvl4': ...</td>\n",
       "      <td>Indonesia</td>\n",
       "    </tr>\n",
       "    <tr>\n",
       "      <th>7</th>\n",
       "      <td>37.6284</td>\n",
       "      <td>141.6741</td>\n",
       "      <td>North Pacific Ocean</td>\n",
       "      <td>37.6284,141.6741</td>\n",
       "      <td>None</td>\n",
       "      <td>None</td>\n",
       "    </tr>\n",
       "    <tr>\n",
       "      <th>8</th>\n",
       "      <td>-34.3475</td>\n",
       "      <td>-70.5794</td>\n",
       "      <td>Chile</td>\n",
       "      <td>-34.3475,-70.5794</td>\n",
       "      <td>{'town': 'Requínoa', 'county': 'Provincia de C...</td>\n",
       "      <td>Chile</td>\n",
       "    </tr>\n",
       "  </tbody>\n",
       "</table>\n",
       "</div>"
      ],
      "text/plain": [
       "        lat      long     filtered_location          geom_data  \\\n",
       "0  -57.9983  -25.7068  South Atlantic Ocean  -57.9983,-25.7068   \n",
       "1  -20.5094  -11.7191  South Atlantic Ocean  -20.5094,-11.7191   \n",
       "2  -56.1713  -27.3639  South Atlantic Ocean  -56.1713,-27.3639   \n",
       "3  -20.4496  -11.7901  South Atlantic Ocean  -20.4496,-11.7901   \n",
       "4  -20.2238  -12.4116  South Atlantic Ocean  -20.2238,-12.4116   \n",
       "5  -22.2898  171.6659   South Pacific Ocean  -22.2898,171.6659   \n",
       "6    0.3403  124.3752           Molucca Sea    0.3403,124.3752   \n",
       "7   37.6284  141.6741   North Pacific Ocean   37.6284,141.6741   \n",
       "8  -34.3475  -70.5794                 Chile  -34.3475,-70.5794   \n",
       "\n",
       "                                            loc_info  \\\n",
       "0                                               None   \n",
       "1                                               None   \n",
       "2  {'state': 'South Sandwich Islands', 'country':...   \n",
       "3                                               None   \n",
       "4                                               None   \n",
       "5                                               None   \n",
       "6  {'state': 'Sulawesi Utara', 'ISO3166-2-lvl4': ...   \n",
       "7                                               None   \n",
       "8  {'town': 'Requínoa', 'county': 'Provincia de C...   \n",
       "\n",
       "                                        country  \n",
       "0                                          None  \n",
       "1                                          None  \n",
       "2  South Georgia and the South Sandwich Islands  \n",
       "3                                          None  \n",
       "4                                          None  \n",
       "5                                          None  \n",
       "6                                     Indonesia  \n",
       "7                                          None  \n",
       "8                                         Chile  "
      ]
     },
     "execution_count": 262,
     "metadata": {},
     "output_type": "execute_result"
    }
   ],
   "source": [
    "location_df"
   ]
  },
  {
   "cell_type": "code",
   "execution_count": null,
   "metadata": {},
   "outputs": [
    {
     "name": "stderr",
     "output_type": "stream",
     "text": [
      "/var/folders/9k/93y5mwqx7vv2w2hhhthftg980000gn/T/ipykernel_74483/253824053.py:1: SettingWithCopyWarning: \n",
      "A value is trying to be set on a copy of a slice from a DataFrame\n",
      "\n",
      "See the caveats in the documentation: https://pandas.pydata.org/pandas-docs/stable/user_guide/indexing.html#returning-a-view-versus-a-copy\n",
      "  location_df['country'].fillna(location_df['filtered_location'], inplace=True)\n"
     ]
    }
   ],
   "source": [
    "location_df['country'].fillna(location_df['filtered_location'], inplace=True)"
   ]
  },
  {
   "cell_type": "code",
   "execution_count": null,
   "metadata": {},
   "outputs": [],
   "source": [
    "location_df= location_df[['id','lat', 'long', 'country', 'geom_data']]"
   ]
  },
  {
   "cell_type": "code",
   "execution_count": null,
   "metadata": {},
   "outputs": [
    {
     "data": {
      "text/html": [
       "<div>\n",
       "<style scoped>\n",
       "    .dataframe tbody tr th:only-of-type {\n",
       "        vertical-align: middle;\n",
       "    }\n",
       "\n",
       "    .dataframe tbody tr th {\n",
       "        vertical-align: top;\n",
       "    }\n",
       "\n",
       "    .dataframe thead th {\n",
       "        text-align: right;\n",
       "    }\n",
       "</style>\n",
       "<table border=\"1\" class=\"dataframe\">\n",
       "  <thead>\n",
       "    <tr style=\"text-align: right;\">\n",
       "      <th></th>\n",
       "      <th>lat</th>\n",
       "      <th>long</th>\n",
       "      <th>filtered_location</th>\n",
       "      <th>geom_data</th>\n",
       "      <th>loc_info</th>\n",
       "      <th>country</th>\n",
       "    </tr>\n",
       "  </thead>\n",
       "  <tbody>\n",
       "    <tr>\n",
       "      <th>0</th>\n",
       "      <td>-57.9983</td>\n",
       "      <td>-25.7068</td>\n",
       "      <td>South Atlantic Ocean</td>\n",
       "      <td>-57.9983,-25.7068</td>\n",
       "      <td>None</td>\n",
       "      <td>South Atlantic Ocean</td>\n",
       "    </tr>\n",
       "    <tr>\n",
       "      <th>1</th>\n",
       "      <td>-20.5094</td>\n",
       "      <td>-11.7191</td>\n",
       "      <td>South Atlantic Ocean</td>\n",
       "      <td>-20.5094,-11.7191</td>\n",
       "      <td>None</td>\n",
       "      <td>South Atlantic Ocean</td>\n",
       "    </tr>\n",
       "    <tr>\n",
       "      <th>2</th>\n",
       "      <td>-56.1713</td>\n",
       "      <td>-27.3639</td>\n",
       "      <td>South Atlantic Ocean</td>\n",
       "      <td>-56.1713,-27.3639</td>\n",
       "      <td>{'state': 'South Sandwich Islands', 'country':...</td>\n",
       "      <td>South Georgia and the South Sandwich Islands</td>\n",
       "    </tr>\n",
       "    <tr>\n",
       "      <th>3</th>\n",
       "      <td>-20.4496</td>\n",
       "      <td>-11.7901</td>\n",
       "      <td>South Atlantic Ocean</td>\n",
       "      <td>-20.4496,-11.7901</td>\n",
       "      <td>None</td>\n",
       "      <td>South Atlantic Ocean</td>\n",
       "    </tr>\n",
       "    <tr>\n",
       "      <th>4</th>\n",
       "      <td>-20.2238</td>\n",
       "      <td>-12.4116</td>\n",
       "      <td>South Atlantic Ocean</td>\n",
       "      <td>-20.2238,-12.4116</td>\n",
       "      <td>None</td>\n",
       "      <td>South Atlantic Ocean</td>\n",
       "    </tr>\n",
       "    <tr>\n",
       "      <th>5</th>\n",
       "      <td>-22.2898</td>\n",
       "      <td>171.6659</td>\n",
       "      <td>South Pacific Ocean</td>\n",
       "      <td>-22.2898,171.6659</td>\n",
       "      <td>None</td>\n",
       "      <td>South Pacific Ocean</td>\n",
       "    </tr>\n",
       "    <tr>\n",
       "      <th>6</th>\n",
       "      <td>0.3403</td>\n",
       "      <td>124.3752</td>\n",
       "      <td>Molucca Sea</td>\n",
       "      <td>0.3403,124.3752</td>\n",
       "      <td>{'state': 'Sulawesi Utara', 'ISO3166-2-lvl4': ...</td>\n",
       "      <td>Indonesia</td>\n",
       "    </tr>\n",
       "    <tr>\n",
       "      <th>7</th>\n",
       "      <td>37.6284</td>\n",
       "      <td>141.6741</td>\n",
       "      <td>North Pacific Ocean</td>\n",
       "      <td>37.6284,141.6741</td>\n",
       "      <td>None</td>\n",
       "      <td>North Pacific Ocean</td>\n",
       "    </tr>\n",
       "    <tr>\n",
       "      <th>8</th>\n",
       "      <td>-34.3475</td>\n",
       "      <td>-70.5794</td>\n",
       "      <td>Chile</td>\n",
       "      <td>-34.3475,-70.5794</td>\n",
       "      <td>{'town': 'Requínoa', 'county': 'Provincia de C...</td>\n",
       "      <td>Chile</td>\n",
       "    </tr>\n",
       "  </tbody>\n",
       "</table>\n",
       "</div>"
      ],
      "text/plain": [
       "        lat      long     filtered_location          geom_data  \\\n",
       "0  -57.9983  -25.7068  South Atlantic Ocean  -57.9983,-25.7068   \n",
       "1  -20.5094  -11.7191  South Atlantic Ocean  -20.5094,-11.7191   \n",
       "2  -56.1713  -27.3639  South Atlantic Ocean  -56.1713,-27.3639   \n",
       "3  -20.4496  -11.7901  South Atlantic Ocean  -20.4496,-11.7901   \n",
       "4  -20.2238  -12.4116  South Atlantic Ocean  -20.2238,-12.4116   \n",
       "5  -22.2898  171.6659   South Pacific Ocean  -22.2898,171.6659   \n",
       "6    0.3403  124.3752           Molucca Sea    0.3403,124.3752   \n",
       "7   37.6284  141.6741   North Pacific Ocean   37.6284,141.6741   \n",
       "8  -34.3475  -70.5794                 Chile  -34.3475,-70.5794   \n",
       "\n",
       "                                            loc_info  \\\n",
       "0                                               None   \n",
       "1                                               None   \n",
       "2  {'state': 'South Sandwich Islands', 'country':...   \n",
       "3                                               None   \n",
       "4                                               None   \n",
       "5                                               None   \n",
       "6  {'state': 'Sulawesi Utara', 'ISO3166-2-lvl4': ...   \n",
       "7                                               None   \n",
       "8  {'town': 'Requínoa', 'county': 'Provincia de C...   \n",
       "\n",
       "                                        country  \n",
       "0                          South Atlantic Ocean  \n",
       "1                          South Atlantic Ocean  \n",
       "2  South Georgia and the South Sandwich Islands  \n",
       "3                          South Atlantic Ocean  \n",
       "4                          South Atlantic Ocean  \n",
       "5                           South Pacific Ocean  \n",
       "6                                     Indonesia  \n",
       "7                           North Pacific Ocean  \n",
       "8                                         Chile  "
      ]
     },
     "execution_count": 265,
     "metadata": {},
     "output_type": "execute_result"
    }
   ],
   "source": [
    "location_df"
   ]
  },
  {
   "cell_type": "code",
   "execution_count": null,
   "metadata": {},
   "outputs": [],
   "source": []
  }
 ],
 "metadata": {
  "kernelspec": {
   "display_name": "Python 3.9.12 ('dsci572env')",
   "language": "python",
   "name": "python3"
  },
  "language_info": {
   "codemirror_mode": {
    "name": "ipython",
    "version": 3
   },
   "file_extension": ".py",
   "mimetype": "text/x-python",
   "name": "python",
   "nbconvert_exporter": "python",
   "pygments_lexer": "ipython3",
   "version": "3.9.12"
  },
  "orig_nbformat": 4,
  "vscode": {
   "interpreter": {
    "hash": "49c76ddf62ca98de74eedc2bb55b33e27315dcb91d5e2af2ea84b0e3308bb054"
   }
  }
 },
 "nbformat": 4,
 "nbformat_minor": 2
}
