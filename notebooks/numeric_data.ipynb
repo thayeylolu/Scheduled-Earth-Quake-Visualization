{
 "cells": [
  {
   "cell_type": "code",
   "execution_count": 13,
   "metadata": {},
   "outputs": [],
   "source": [
    "import string\n",
    "import pandas as pd\n",
    "import re, os"
   ]
  },
  {
   "cell_type": "code",
   "execution_count": 14,
   "metadata": {},
   "outputs": [],
   "source": [
    "CURRENT_DIR = os.getcwd()\n",
    "PARENT_DIR = CURRENT_DIR.replace(\"script/preparation\", \"\")\n",
    "RAW_DATA_DIR = PARENT_DIR + \"/data/raw\"\n",
    "CLEAN_DATA_DIR = PARENT_DIR + \"/data/preprocessed/clean\""
   ]
  },
  {
   "cell_type": "code",
   "execution_count": 15,
   "metadata": {},
   "outputs": [],
   "source": [
    "# pick the most recent file\n",
    "df = pd.read_csv(f'{CLEAN_DATA_DIR}/clean_eq_2022_08_20.csv')\n",
    "df = df.drop(\"Unnamed: 0\",axis=1)"
   ]
  },
  {
   "cell_type": "code",
   "execution_count": 18,
   "metadata": {},
   "outputs": [
    {
     "data": {
      "text/html": [
       "<div>\n",
       "<style scoped>\n",
       "    .dataframe tbody tr th:only-of-type {\n",
       "        vertical-align: middle;\n",
       "    }\n",
       "\n",
       "    .dataframe tbody tr th {\n",
       "        vertical-align: top;\n",
       "    }\n",
       "\n",
       "    .dataframe thead th {\n",
       "        text-align: right;\n",
       "    }\n",
       "</style>\n",
       "<table border=\"1\" class=\"dataframe\">\n",
       "  <thead>\n",
       "    <tr style=\"text-align: right;\">\n",
       "      <th></th>\n",
       "      <th>p_id</th>\n",
       "      <th>date</th>\n",
       "      <th>time</th>\n",
       "      <th>location</th>\n",
       "      <th>filtered_location</th>\n",
       "      <th>lat</th>\n",
       "      <th>long</th>\n",
       "      <th>magnitude</th>\n",
       "    </tr>\n",
       "  </thead>\n",
       "  <tbody>\n",
       "    <tr>\n",
       "      <th>0</th>\n",
       "      <td>2</td>\n",
       "      <td>2022-08-19</td>\n",
       "      <td>18:17:02</td>\n",
       "      <td>South Atlantic Ocean</td>\n",
       "      <td>South Atlantic Ocean</td>\n",
       "      <td>-57.9983</td>\n",
       "      <td>-25.7068</td>\n",
       "      <td>5.2</td>\n",
       "    </tr>\n",
       "    <tr>\n",
       "      <th>1</th>\n",
       "      <td>5</td>\n",
       "      <td>2022-08-19</td>\n",
       "      <td>11:27:01</td>\n",
       "      <td>South Atlantic Ocean</td>\n",
       "      <td>South Atlantic Ocean</td>\n",
       "      <td>-20.5094</td>\n",
       "      <td>-11.7191</td>\n",
       "      <td>5.2</td>\n",
       "    </tr>\n",
       "    <tr>\n",
       "      <th>2</th>\n",
       "      <td>6</td>\n",
       "      <td>2022-08-19</td>\n",
       "      <td>05:25:01</td>\n",
       "      <td>South Atlantic Ocean</td>\n",
       "      <td>South Atlantic Ocean</td>\n",
       "      <td>-56.1713</td>\n",
       "      <td>-27.3639</td>\n",
       "      <td>5.3</td>\n",
       "    </tr>\n",
       "    <tr>\n",
       "      <th>3</th>\n",
       "      <td>8</td>\n",
       "      <td>2022-08-19</td>\n",
       "      <td>03:02:01</td>\n",
       "      <td>South Atlantic Ocean</td>\n",
       "      <td>South Atlantic Ocean</td>\n",
       "      <td>-20.4496</td>\n",
       "      <td>-11.7901</td>\n",
       "      <td>5.1</td>\n",
       "    </tr>\n",
       "    <tr>\n",
       "      <th>4</th>\n",
       "      <td>10</td>\n",
       "      <td>2022-08-18</td>\n",
       "      <td>21:54:01</td>\n",
       "      <td>South Atlantic Ocean</td>\n",
       "      <td>South Atlantic Ocean</td>\n",
       "      <td>-20.2238</td>\n",
       "      <td>-12.4116</td>\n",
       "      <td>5.1</td>\n",
       "    </tr>\n",
       "  </tbody>\n",
       "</table>\n",
       "</div>"
      ],
      "text/plain": [
       "   p_id        date      time              location     filtered_location  \\\n",
       "0     2  2022-08-19  18:17:02  South Atlantic Ocean  South Atlantic Ocean   \n",
       "1     5  2022-08-19  11:27:01  South Atlantic Ocean  South Atlantic Ocean   \n",
       "2     6  2022-08-19  05:25:01  South Atlantic Ocean  South Atlantic Ocean   \n",
       "3     8  2022-08-19  03:02:01  South Atlantic Ocean  South Atlantic Ocean   \n",
       "4    10  2022-08-18  21:54:01  South Atlantic Ocean  South Atlantic Ocean   \n",
       "\n",
       "       lat     long  magnitude  \n",
       "0 -57.9983 -25.7068        5.2  \n",
       "1 -20.5094 -11.7191        5.2  \n",
       "2 -56.1713 -27.3639        5.3  \n",
       "3 -20.4496 -11.7901        5.1  \n",
       "4 -20.2238 -12.4116        5.1  "
      ]
     },
     "execution_count": 18,
     "metadata": {},
     "output_type": "execute_result"
    }
   ],
   "source": [
    "df.head()"
   ]
  },
  {
   "cell_type": "code",
   "execution_count": 19,
   "metadata": {},
   "outputs": [
    {
     "data": {
      "text/html": [
       "<div>\n",
       "<style scoped>\n",
       "    .dataframe tbody tr th:only-of-type {\n",
       "        vertical-align: middle;\n",
       "    }\n",
       "\n",
       "    .dataframe tbody tr th {\n",
       "        vertical-align: top;\n",
       "    }\n",
       "\n",
       "    .dataframe thead th {\n",
       "        text-align: right;\n",
       "    }\n",
       "</style>\n",
       "<table border=\"1\" class=\"dataframe\">\n",
       "  <thead>\n",
       "    <tr style=\"text-align: right;\">\n",
       "      <th></th>\n",
       "      <th>p_id</th>\n",
       "      <th>date</th>\n",
       "      <th>time</th>\n",
       "      <th>magnitude</th>\n",
       "    </tr>\n",
       "  </thead>\n",
       "  <tbody>\n",
       "    <tr>\n",
       "      <th>0</th>\n",
       "      <td>2</td>\n",
       "      <td>2022-08-19</td>\n",
       "      <td>18:17:02</td>\n",
       "      <td>5.2</td>\n",
       "    </tr>\n",
       "    <tr>\n",
       "      <th>1</th>\n",
       "      <td>5</td>\n",
       "      <td>2022-08-19</td>\n",
       "      <td>11:27:01</td>\n",
       "      <td>5.2</td>\n",
       "    </tr>\n",
       "    <tr>\n",
       "      <th>2</th>\n",
       "      <td>6</td>\n",
       "      <td>2022-08-19</td>\n",
       "      <td>05:25:01</td>\n",
       "      <td>5.3</td>\n",
       "    </tr>\n",
       "    <tr>\n",
       "      <th>3</th>\n",
       "      <td>8</td>\n",
       "      <td>2022-08-19</td>\n",
       "      <td>03:02:01</td>\n",
       "      <td>5.1</td>\n",
       "    </tr>\n",
       "    <tr>\n",
       "      <th>4</th>\n",
       "      <td>10</td>\n",
       "      <td>2022-08-18</td>\n",
       "      <td>21:54:01</td>\n",
       "      <td>5.1</td>\n",
       "    </tr>\n",
       "    <tr>\n",
       "      <th>5</th>\n",
       "      <td>12</td>\n",
       "      <td>2022-08-18</td>\n",
       "      <td>18:03:01</td>\n",
       "      <td>5.0</td>\n",
       "    </tr>\n",
       "    <tr>\n",
       "      <th>6</th>\n",
       "      <td>15</td>\n",
       "      <td>2022-08-18</td>\n",
       "      <td>08:02:02</td>\n",
       "      <td>5.4</td>\n",
       "    </tr>\n",
       "    <tr>\n",
       "      <th>7</th>\n",
       "      <td>16</td>\n",
       "      <td>2022-08-18</td>\n",
       "      <td>06:09:01</td>\n",
       "      <td>5.1</td>\n",
       "    </tr>\n",
       "    <tr>\n",
       "      <th>8</th>\n",
       "      <td>18</td>\n",
       "      <td>2022-08-18</td>\n",
       "      <td>02:28:01</td>\n",
       "      <td>5.3</td>\n",
       "    </tr>\n",
       "  </tbody>\n",
       "</table>\n",
       "</div>"
      ],
      "text/plain": [
       "   p_id        date      time  magnitude\n",
       "0     2  2022-08-19  18:17:02        5.2\n",
       "1     5  2022-08-19  11:27:01        5.2\n",
       "2     6  2022-08-19  05:25:01        5.3\n",
       "3     8  2022-08-19  03:02:01        5.1\n",
       "4    10  2022-08-18  21:54:01        5.1\n",
       "5    12  2022-08-18  18:03:01        5.0\n",
       "6    15  2022-08-18  08:02:02        5.4\n",
       "7    16  2022-08-18  06:09:01        5.1\n",
       "8    18  2022-08-18  02:28:01        5.3"
      ]
     },
     "execution_count": 19,
     "metadata": {},
     "output_type": "execute_result"
    }
   ],
   "source": [
    "numeric_data = df[[\"p_id\", \"date\", \"time\", \"magnitude\"]]\n",
    "numeric_data"
   ]
  },
  {
   "cell_type": "code",
   "execution_count": 20,
   "metadata": {},
   "outputs": [
    {
     "name": "stdout",
     "output_type": "stream",
     "text": [
      "<class 'pandas.core.frame.DataFrame'>\n",
      "RangeIndex: 9 entries, 0 to 8\n",
      "Data columns (total 4 columns):\n",
      " #   Column     Non-Null Count  Dtype  \n",
      "---  ------     --------------  -----  \n",
      " 0   p_id       9 non-null      int64  \n",
      " 1   date       9 non-null      object \n",
      " 2   time       9 non-null      object \n",
      " 3   magnitude  9 non-null      float64\n",
      "dtypes: float64(1), int64(1), object(2)\n",
      "memory usage: 416.0+ bytes\n"
     ]
    }
   ],
   "source": [
    "numeric_data.info()"
   ]
  }
 ],
 "metadata": {
  "kernelspec": {
   "display_name": "Python 3.9.12 ('dsci572env')",
   "language": "python",
   "name": "python3"
  },
  "language_info": {
   "codemirror_mode": {
    "name": "ipython",
    "version": 3
   },
   "file_extension": ".py",
   "mimetype": "text/x-python",
   "name": "python",
   "nbconvert_exporter": "python",
   "pygments_lexer": "ipython3",
   "version": "3.9.12"
  },
  "orig_nbformat": 4,
  "vscode": {
   "interpreter": {
    "hash": "49c76ddf62ca98de74eedc2bb55b33e27315dcb91d5e2af2ea84b0e3308bb054"
   }
  }
 },
 "nbformat": 4,
 "nbformat_minor": 2
}
