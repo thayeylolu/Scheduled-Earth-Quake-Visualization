{
 "cells": [
  {
   "cell_type": "code",
   "execution_count": 13,
   "metadata": {},
   "outputs": [],
   "source": [
    "import string\n",
    "import pandas as pd\n",
    "import re, os"
   ]
  },
  {
   "cell_type": "code",
   "execution_count": 14,
   "metadata": {},
   "outputs": [],
   "source": [
    "CURRENT_DIR = os.getcwd()\n",
    "PARENT_DIR = CURRENT_DIR.replace(\"/notebooks\", \"\")\n",
    "RAW_DATA_DIR = os.path.join(PARENT_DIR ,\"data/raw\")\n",
    "CLEAN_DATA_DIR = os.path.join(PARENT_DIR, \"data/preprocessed/clean\")"
   ]
  },
  {
   "cell_type": "code",
   "execution_count": 15,
   "metadata": {},
   "outputs": [
    {
     "data": {
      "text/plain": [
       "'/Users/hasana/Documents/projects/learningstuff/earthquake/notebooks'"
      ]
     },
     "execution_count": 15,
     "metadata": {},
     "output_type": "execute_result"
    }
   ],
   "source": [
    "os.getcwd()"
   ]
  },
  {
   "cell_type": "code",
   "execution_count": 16,
   "metadata": {},
   "outputs": [
    {
     "data": {
      "text/html": [
       "<div>\n",
       "<style scoped>\n",
       "    .dataframe tbody tr th:only-of-type {\n",
       "        vertical-align: middle;\n",
       "    }\n",
       "\n",
       "    .dataframe tbody tr th {\n",
       "        vertical-align: top;\n",
       "    }\n",
       "\n",
       "    .dataframe thead th {\n",
       "        text-align: right;\n",
       "    }\n",
       "</style>\n",
       "<table border=\"1\" class=\"dataframe\">\n",
       "  <thead>\n",
       "    <tr style=\"text-align: right;\">\n",
       "      <th></th>\n",
       "      <th>id</th>\n",
       "      <th>date</th>\n",
       "      <th>user</th>\n",
       "      <th>region</th>\n",
       "      <th>tweet</th>\n",
       "      <th>location</th>\n",
       "      <th>location_2</th>\n",
       "      <th>map_url</th>\n",
       "      <th>lat</th>\n",
       "      <th>long</th>\n",
       "      <th>magnitude</th>\n",
       "    </tr>\n",
       "  </thead>\n",
       "  <tbody>\n",
       "    <tr>\n",
       "      <th>0</th>\n",
       "      <td>2</td>\n",
       "      <td>2022-08-19 18:17:02+00:00</td>\n",
       "      <td>earthquakeBot</td>\n",
       "      <td>occurred in South Sandwich Islands region.</td>\n",
       "      <td>A 5.2 magnitude earthquake occurred in South S...</td>\n",
       "      <td>South Atlantic Ocean</td>\n",
       "      <td>39JP272V+M7</td>\n",
       "      <td>https://www.google.com/maps/place/57%C2%B059'5...</td>\n",
       "      <td>-57.9983</td>\n",
       "      <td>-25.7068</td>\n",
       "      <td>5.2</td>\n",
       "    </tr>\n",
       "    <tr>\n",
       "      <th>1</th>\n",
       "      <td>5</td>\n",
       "      <td>2022-08-19 11:27:01+00:00</td>\n",
       "      <td>earthquakeBot</td>\n",
       "      <td>occurred in southern Mid-Atlantic Ridge.</td>\n",
       "      <td>A 5.2 magnitude earthquake occurred in souther...</td>\n",
       "      <td>South Atlantic Ocean</td>\n",
       "      <td>5CFCF7RJ+69</td>\n",
       "      <td>https://www.google.com/maps/place/20%C2%B030'3...</td>\n",
       "      <td>-20.5094</td>\n",
       "      <td>-11.7191</td>\n",
       "      <td>5.2</td>\n",
       "    </tr>\n",
       "    <tr>\n",
       "      <th>2</th>\n",
       "      <td>6</td>\n",
       "      <td>2022-08-19 05:25:01+00:00</td>\n",
       "      <td>earthquakeBot</td>\n",
       "      <td>occurred in South Sandwich Islands region.</td>\n",
       "      <td>A 5.3 magnitude earthquake occurred in South S...</td>\n",
       "      <td>South Atlantic Ocean</td>\n",
       "      <td>39MJRJHP+FC</td>\n",
       "      <td>https://www.google.com/maps/place/56%C2%B010'1...</td>\n",
       "      <td>-56.1713</td>\n",
       "      <td>-27.3639</td>\n",
       "      <td>5.3</td>\n",
       "    </tr>\n",
       "    <tr>\n",
       "      <th>3</th>\n",
       "      <td>8</td>\n",
       "      <td>2022-08-19 03:02:01+00:00</td>\n",
       "      <td>earthquakeBot</td>\n",
       "      <td>occurred in southern Mid-Atlantic Ridge.</td>\n",
       "      <td>A 5.1 magnitude earthquake occurred in souther...</td>\n",
       "      <td>South Atlantic Ocean</td>\n",
       "      <td>5CFCH625+5X</td>\n",
       "      <td>https://www.google.com/maps/place/20%C2%B026'5...</td>\n",
       "      <td>-20.4496</td>\n",
       "      <td>-11.7901</td>\n",
       "      <td>5.1</td>\n",
       "    </tr>\n",
       "    <tr>\n",
       "      <th>4</th>\n",
       "      <td>10</td>\n",
       "      <td>2022-08-18 21:54:01+00:00</td>\n",
       "      <td>earthquakeBot</td>\n",
       "      <td>occurred in southern Mid-Atlantic Ridge.</td>\n",
       "      <td>A 5.1 magnitude earthquake occurred in souther...</td>\n",
       "      <td>South Atlantic Ocean</td>\n",
       "      <td>5CF9QHGQ+F9</td>\n",
       "      <td>https://www.google.com/maps/place/20%C2%B013'2...</td>\n",
       "      <td>-20.2238</td>\n",
       "      <td>-12.4116</td>\n",
       "      <td>5.1</td>\n",
       "    </tr>\n",
       "  </tbody>\n",
       "</table>\n",
       "</div>"
      ],
      "text/plain": [
       "   id                       date           user  \\\n",
       "0   2  2022-08-19 18:17:02+00:00  earthquakeBot   \n",
       "1   5  2022-08-19 11:27:01+00:00  earthquakeBot   \n",
       "2   6  2022-08-19 05:25:01+00:00  earthquakeBot   \n",
       "3   8  2022-08-19 03:02:01+00:00  earthquakeBot   \n",
       "4  10  2022-08-18 21:54:01+00:00  earthquakeBot   \n",
       "\n",
       "                                         region  \\\n",
       "0   occurred in South Sandwich Islands region.    \n",
       "1     occurred in southern Mid-Atlantic Ridge.    \n",
       "2   occurred in South Sandwich Islands region.    \n",
       "3     occurred in southern Mid-Atlantic Ridge.    \n",
       "4     occurred in southern Mid-Atlantic Ridge.    \n",
       "\n",
       "                                               tweet              location  \\\n",
       "0  A 5.2 magnitude earthquake occurred in South S...  South Atlantic Ocean   \n",
       "1  A 5.2 magnitude earthquake occurred in souther...  South Atlantic Ocean   \n",
       "2  A 5.3 magnitude earthquake occurred in South S...  South Atlantic Ocean   \n",
       "3  A 5.1 magnitude earthquake occurred in souther...  South Atlantic Ocean   \n",
       "4  A 5.1 magnitude earthquake occurred in souther...  South Atlantic Ocean   \n",
       "\n",
       "    location_2                                            map_url      lat  \\\n",
       "0  39JP272V+M7  https://www.google.com/maps/place/57%C2%B059'5... -57.9983   \n",
       "1  5CFCF7RJ+69  https://www.google.com/maps/place/20%C2%B030'3... -20.5094   \n",
       "2  39MJRJHP+FC  https://www.google.com/maps/place/56%C2%B010'1... -56.1713   \n",
       "3  5CFCH625+5X  https://www.google.com/maps/place/20%C2%B026'5... -20.4496   \n",
       "4  5CF9QHGQ+F9  https://www.google.com/maps/place/20%C2%B013'2... -20.2238   \n",
       "\n",
       "      long  magnitude  \n",
       "0 -25.7068        5.2  \n",
       "1 -11.7191        5.2  \n",
       "2 -27.3639        5.3  \n",
       "3 -11.7901        5.1  \n",
       "4 -12.4116        5.1  "
      ]
     },
     "execution_count": 16,
     "metadata": {},
     "output_type": "execute_result"
    }
   ],
   "source": [
    "# pick the most recent file\n",
    "df = pd.read_csv(f'{RAW_DATA_DIR}/earthquake_bot_2022_08_20.csv')\n",
    "df = df.rename(columns={'Unnamed: 0':'id'})\n",
    "df.head()"
   ]
  },
  {
   "cell_type": "code",
   "execution_count": 17,
   "metadata": {},
   "outputs": [],
   "source": [
    "def _find_last_word(x):\n",
    "    last_word = re.search(\"(\\w+)$\", x).group()\n",
    "    if last_word in [\"Sea\", \"Ocean\", \"River\", \"Volcano\"]:\n",
    "        return x\n",
    "    else:\n",
    "        return last_word"
   ]
  },
  {
   "cell_type": "code",
   "execution_count": 18,
   "metadata": {},
   "outputs": [],
   "source": [
    "if df.user.unique()[0] != 'earthquakeBot':\n",
    "    # filter the dataset to have only data from 'earthquakebot'\n",
    "    df = df.query('User == \"earthquakeBot\"')\n",
    "else:\n",
    "    pass"
   ]
  },
  {
   "cell_type": "code",
   "execution_count": 19,
   "metadata": {},
   "outputs": [
    {
     "data": {
      "text/plain": [
       "0    18:17:02\n",
       "1    11:27:01\n",
       "2    05:25:01\n",
       "3    03:02:01\n",
       "4    21:54:01\n",
       "5    18:03:01\n",
       "6    08:02:02\n",
       "7    06:09:01\n",
       "8    02:28:01\n",
       "Name: date_, dtype: object"
      ]
     },
     "execution_count": 19,
     "metadata": {},
     "output_type": "execute_result"
    }
   ],
   "source": [
    "df['date_'] = pd.to_datetime(df['date'])\n",
    "df.date_.apply(lambda x: x.date())\n",
    "df.date_.apply(lambda x: x.time())"
   ]
  },
  {
   "cell_type": "code",
   "execution_count": 20,
   "metadata": {},
   "outputs": [
    {
     "data": {
      "text/plain": [
       "0        in South Sandwich Islands region. \n",
       "1          in southern Mid-Atlantic Ridge. \n",
       "2        in South Sandwich Islands region. \n",
       "3          in southern Mid-Atlantic Ridge. \n",
       "4          in southern Mid-Atlantic Ridge. \n",
       "5     in southeast of the Loyalty Islands. \n",
       "6        in Minahasa, Sulawesi, Indonesia. \n",
       "7              37.9mi ENE of Namie, Japan. \n",
       "8        in Chile-Argentina border region. \n",
       "Name: region, dtype: object"
      ]
     },
     "execution_count": 20,
     "metadata": {},
     "output_type": "execute_result"
    }
   ],
   "source": [
    "df.region.str.replace('occurred ', '').replace('in ', '').replace('.', '')"
   ]
  },
  {
   "cell_type": "code",
   "execution_count": 21,
   "metadata": {},
   "outputs": [
    {
     "data": {
      "text/plain": [
       "0    South Atlantic Ocean\n",
       "1    South Atlantic Ocean\n",
       "2    South Atlantic Ocean\n",
       "3    South Atlantic Ocean\n",
       "4    South Atlantic Ocean\n",
       "5     South Pacific Ocean\n",
       "6             Molucca Sea\n",
       "7     North Pacific Ocean\n",
       "8                   Chile\n",
       "Name: location, dtype: object"
      ]
     },
     "execution_count": 21,
     "metadata": {},
     "output_type": "execute_result"
    }
   ],
   "source": [
    "df.location.apply(lambda x : _find_last_word(x))"
   ]
  },
  {
   "cell_type": "code",
   "execution_count": 22,
   "metadata": {},
   "outputs": [
    {
     "data": {
      "text/plain": [
       "0     2022-08-19ID2\n",
       "1     2022-08-19ID5\n",
       "2     2022-08-19ID6\n",
       "3     2022-08-19ID8\n",
       "4    2022-08-18ID10\n",
       "5    2022-08-18ID12\n",
       "6    2022-08-18ID15\n",
       "7    2022-08-18ID16\n",
       "8    2022-08-18ID18\n",
       "Name: id, dtype: object"
      ]
     },
     "execution_count": 22,
     "metadata": {},
     "output_type": "execute_result"
    }
   ],
   "source": [
    "df['dates'] = df.date_.apply(lambda x: x.date())\n",
    "df['id'] = df['dates'].astype(str) + 'ID' +  df['id'].astype(str)\n",
    "df['id']"
   ]
  },
  {
   "cell_type": "code",
   "execution_count": null,
   "metadata": {},
   "outputs": [],
   "source": []
  }
 ],
 "metadata": {
  "kernelspec": {
   "display_name": "Python 3.9.12 ('dsci572env')",
   "language": "python",
   "name": "python3"
  },
  "language_info": {
   "codemirror_mode": {
    "name": "ipython",
    "version": 3
   },
   "file_extension": ".py",
   "mimetype": "text/x-python",
   "name": "python",
   "nbconvert_exporter": "python",
   "pygments_lexer": "ipython3",
   "version": "3.9.12"
  },
  "orig_nbformat": 4,
  "vscode": {
   "interpreter": {
    "hash": "49c76ddf62ca98de74eedc2bb55b33e27315dcb91d5e2af2ea84b0e3308bb054"
   }
  }
 },
 "nbformat": 4,
 "nbformat_minor": 2
}
